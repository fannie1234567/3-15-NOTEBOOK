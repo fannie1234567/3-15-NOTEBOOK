{
  "cells": [
    {
      "cell_type": "code",
      "execution_count": 19,
      "metadata": {
        "id": "QUmyHyZ3cnZI",
        "outputId": "5824ecd0-72e2-4beb-94d7-4b634397dea2",
        "colab": {
          "base_uri": "https://localhost:8080/"
        }
      },
      "outputs": [
        {
          "output_type": "stream",
          "name": "stdout",
          "text": [
            "Drive already mounted at /content/drive; to attempt to forcibly remount, call drive.mount(\"/content/drive\", force_remount=True).\n"
          ]
        }
      ],
      "source": [
        "'''\n",
        "\n",
        "資料 mapping 至google drive\n",
        "\n",
        "把資料寫在/content/drive\n",
        "\n",
        "即可保存在 google drive內\n",
        "\n",
        "'''\n",
        "from google.colab import drive\n",
        "drive.mount('/content/drive')"
      ]
    },
    {
      "cell_type": "code",
      "execution_count": null,
      "metadata": {
        "id": "IA4MtQz7c4vK"
      },
      "outputs": [],
      "source": [
        "'''\n",
        "\n",
        "'''\n",
        "\n",
        "!pip install line-bot-sdk flask flask-ngrok"
      ]
    },
    {
      "cell_type": "code",
      "execution_count": null,
      "metadata": {
        "id": "vznr93WgdCkd"
      },
      "outputs": [],
      "source": [
        "from linebot import (\n",
        "    LineBotApi, WebhookHandler\n",
        ")\n",
        "from linebot.models import (\n",
        "    \n",
        "    TextSendMessage\n",
        ")\n"
      ]
    },
    {
      "cell_type": "code",
      "execution_count": 29,
      "metadata": {
        "id": "gBxudgmsdMLj"
      },
      "outputs": [],
      "source": [
        "\n",
        "# 生成實體物件\n",
        "line_bot_api = LineBotApi(\"GmpqbLGfzvDUTNqtMRj4y1+tioloPk3RjM6dTRUuaULhIIkg/UqLr9MSDMQinNO224SMNrW3FtMFTgdIIuYOBWjHNRQoDP9dS/qIuGEW1NzJ2Sp0W5rKLEE+PiUBHO5jzbeYe1PtLNHsk7iauqvMGgdB04t89/1O/w1cDnyilFU=\")"
      ]
    },
    {
      "cell_type": "code",
      "execution_count": 30,
      "metadata": {
        "id": "N4IwX0MydOPN"
      },
      "outputs": [],
      "source": [
        "'''\n",
        "指定推播\n",
        "'''\n",
        "\n",
        "line_bot_api.push_message('U0176d805450c918d3b6dba74c538e714', TextSendMessage(text='Hello World!'))"
      ]
    },
    {
      "cell_type": "code",
      "execution_count": 31,
      "metadata": {
        "id": "5JSs8yHpcc1a",
        "outputId": "7536ffc6-f11b-4553-c08a-833165f0c933",
        "colab": {
          "base_uri": "https://localhost:8080/",
          "height": 245
        }
      },
      "outputs": [
        {
          "output_type": "error",
          "ename": "FileNotFoundError",
          "evalue": "ignored",
          "traceback": [
            "\u001b[0;31m---------------------------------------------------------------------------\u001b[0m",
            "\u001b[0;31mFileNotFoundError\u001b[0m                         Traceback (most recent call last)",
            "\u001b[0;32m<ipython-input-31-6c0bc90e10e5>\u001b[0m in \u001b[0;36m<module>\u001b[0;34m\u001b[0m\n\u001b[1;32m      4\u001b[0m \u001b[0;34m\u001b[0m\u001b[0m\n\u001b[1;32m      5\u001b[0m \u001b[0;32mimport\u001b[0m \u001b[0mjson\u001b[0m\u001b[0;34m\u001b[0m\u001b[0;34m\u001b[0m\u001b[0m\n\u001b[0;32m----> 6\u001b[0;31m \u001b[0mjson_object_strings\u001b[0m \u001b[0;34m=\u001b[0m \u001b[0mopen\u001b[0m\u001b[0;34m(\u001b[0m\u001b[0;34m\"/content/drive/MyDrive/users.txt\"\u001b[0m\u001b[0;34m,\u001b[0m\u001b[0;34m'r'\u001b[0m\u001b[0;34m)\u001b[0m\u001b[0;34m\u001b[0m\u001b[0;34m\u001b[0m\u001b[0m\n\u001b[0m\u001b[1;32m      7\u001b[0m \u001b[0mjson_array\u001b[0m \u001b[0;34m=\u001b[0m \u001b[0;34m[\u001b[0m\u001b[0;34m]\u001b[0m\u001b[0;34m\u001b[0m\u001b[0;34m\u001b[0m\u001b[0m\n\u001b[1;32m      8\u001b[0m \u001b[0muser_id_array\u001b[0m \u001b[0;34m=\u001b[0m \u001b[0;34m[\u001b[0m\u001b[0;34m]\u001b[0m\u001b[0;34m\u001b[0m\u001b[0;34m\u001b[0m\u001b[0m\n",
            "\u001b[0;31mFileNotFoundError\u001b[0m: [Errno 2] No such file or directory: '/content/drive/MyDrive/users.txt'"
          ]
        }
      ],
      "source": [
        "'''\n",
        "廣播\n",
        "'''\n",
        "\n",
        "import json\n",
        "json_object_strings = open(\"/content/drive/MyDrive/users.txt\",'r')\n",
        "json_array = []\n",
        "user_id_array = []\n",
        "#\n",
        "# 把每一條內容轉json，變成json array\n",
        "for json_object_string in json_object_strings:\n",
        "    json_object = json.loads(json_object_string)\n",
        "    json_array.append(json_object)\n",
        "#從json array，從中挑出用戶id\n",
        "for user_record in json_array:\n",
        "\n",
        "   user_id_array.append(user_record.get(\"user_id\"))\n",
        "# multicast\n",
        "#指定一群用戶\n",
        "line_bot_api.multicast(\n",
        "    user_id_array,\n",
        "    TextSendMessage(text='Hello World!')\n",
        ")"
      ]
    }
  ],
  "metadata": {
    "colab": {
      "name": "013_訊息推播.ipynb",
      "provenance": []
    },
    "kernelspec": {
      "display_name": "Python 3",
      "language": "python",
      "name": "python3"
    },
    "language_info": {
      "codemirror_mode": {
        "name": "ipython",
        "version": 3
      },
      "file_extension": ".py",
      "mimetype": "text/x-python",
      "name": "python",
      "nbconvert_exporter": "python",
      "pygments_lexer": "ipython3",
      "version": "3.8.6"
    }
  },
  "nbformat": 4,
  "nbformat_minor": 0
}