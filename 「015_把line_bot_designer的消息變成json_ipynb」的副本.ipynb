{
  "cells": [
    {
      "cell_type": "markdown",
      "metadata": {
        "id": "view-in-github",
        "colab_type": "text"
      },
      "source": [
        "<a href=\"https://colab.research.google.com/github/fannie1234567/3-15-NOTEBOOK/blob/main/%E3%80%8C015_%E6%8A%8Aline_bot_designer%E7%9A%84%E6%B6%88%E6%81%AF%E8%AE%8A%E6%88%90json_ipynb%E3%80%8D%E7%9A%84%E5%89%AF%E6%9C%AC.ipynb\" target=\"_parent\"><img src=\"https://colab.research.google.com/assets/colab-badge.svg\" alt=\"Open In Colab\"/></a>"
      ]
    },
    {
      "cell_type": "code",
      "execution_count": null,
      "metadata": {
        "id": "p0W867ZhdkdI",
        "colab": {
          "base_uri": "https://localhost:8080/"
        },
        "outputId": "a88dcdfa-c5d9-4c9d-804c-4a2ff16ee2fc"
      },
      "outputs": [
        {
          "output_type": "stream",
          "name": "stdout",
          "text": [
            "Mounted at /content/drive\n"
          ]
        }
      ],
      "source": [
        "'''\n",
        "\n",
        "資料 mapping 至google drive\n",
        "\n",
        "把資料寫在/content/drive\n",
        "\n",
        "即可保存在 google drive內\n",
        "\n",
        "'''\n",
        "from google.colab import drive\n",
        "drive.mount('/content/drive')"
      ]
    },
    {
      "cell_type": "code",
      "execution_count": null,
      "metadata": {
        "id": "uB-ssmBtd5ac",
        "colab": {
          "base_uri": "https://localhost:8080/"
        },
        "outputId": "d806631e-41b0-459b-920a-7d192cc6fa9c"
      },
      "outputs": [
        {
          "output_type": "stream",
          "name": "stdout",
          "text": [
            "Looking in indexes: https://pypi.org/simple, https://us-python.pkg.dev/colab-wheels/public/simple/\n",
            "Collecting line-bot-sdk\n",
            "  Downloading line_bot_sdk-2.4.2-py2.py3-none-any.whl (90 kB)\n",
            "\u001b[2K     \u001b[90m━━━━━━━━━━━━━━━━━━━━━━━━━━━━━━━━━━━━━━━━\u001b[0m \u001b[32m90.1/90.1 KB\u001b[0m \u001b[31m2.7 MB/s\u001b[0m eta \u001b[36m0:00:00\u001b[0m\n",
            "\u001b[?25hRequirement already satisfied: flask in /usr/local/lib/python3.9/dist-packages (2.2.3)\n",
            "Collecting flask-ngrok\n",
            "  Downloading flask_ngrok-0.0.25-py3-none-any.whl (3.1 kB)\n",
            "Collecting aiohttp==3.8.4\n",
            "  Downloading aiohttp-3.8.4-cp39-cp39-manylinux_2_17_x86_64.manylinux2014_x86_64.whl (1.0 MB)\n",
            "\u001b[2K     \u001b[90m━━━━━━━━━━━━━━━━━━━━━━━━━━━━━━━━━━━━━━━━\u001b[0m \u001b[32m1.0/1.0 MB\u001b[0m \u001b[31m16.8 MB/s\u001b[0m eta \u001b[36m0:00:00\u001b[0m\n",
            "\u001b[?25hCollecting requests==2.28.2\n",
            "  Downloading requests-2.28.2-py3-none-any.whl (62 kB)\n",
            "\u001b[2K     \u001b[90m━━━━━━━━━━━━━━━━━━━━━━━━━━━━━━━━━━━━━━━━\u001b[0m \u001b[32m62.8/62.8 KB\u001b[0m \u001b[31m3.5 MB/s\u001b[0m eta \u001b[36m0:00:00\u001b[0m\n",
            "\u001b[?25hRequirement already satisfied: future in /usr/local/lib/python3.9/dist-packages (from line-bot-sdk) (0.16.0)\n",
            "Collecting yarl<2.0,>=1.0\n",
            "  Downloading yarl-1.8.2-cp39-cp39-manylinux_2_17_x86_64.manylinux2014_x86_64.whl (264 kB)\n",
            "\u001b[2K     \u001b[90m━━━━━━━━━━━━━━━━━━━━━━━━━━━━━━━━━━━━━━\u001b[0m \u001b[32m264.6/264.6 KB\u001b[0m \u001b[31m20.0 MB/s\u001b[0m eta \u001b[36m0:00:00\u001b[0m\n",
            "\u001b[?25hCollecting aiosignal>=1.1.2\n",
            "  Downloading aiosignal-1.3.1-py3-none-any.whl (7.6 kB)\n",
            "Collecting async-timeout<5.0,>=4.0.0a3\n",
            "  Downloading async_timeout-4.0.2-py3-none-any.whl (5.8 kB)\n",
            "Collecting charset-normalizer<4.0,>=2.0\n",
            "  Downloading charset_normalizer-3.1.0-cp39-cp39-manylinux_2_17_x86_64.manylinux2014_x86_64.whl (199 kB)\n",
            "\u001b[2K     \u001b[90m━━━━━━━━━━━━━━━━━━━━━━━━━━━━━━━━━━━━━━\u001b[0m \u001b[32m199.2/199.2 KB\u001b[0m \u001b[31m17.9 MB/s\u001b[0m eta \u001b[36m0:00:00\u001b[0m\n",
            "\u001b[?25hCollecting multidict<7.0,>=4.5\n",
            "  Downloading multidict-6.0.4-cp39-cp39-manylinux_2_17_x86_64.manylinux2014_x86_64.whl (114 kB)\n",
            "\u001b[2K     \u001b[90m━━━━━━━━━━━━━━━━━━━━━━━━━━━━━━━━━━━━━━\u001b[0m \u001b[32m114.2/114.2 KB\u001b[0m \u001b[31m11.0 MB/s\u001b[0m eta \u001b[36m0:00:00\u001b[0m\n",
            "\u001b[?25hCollecting frozenlist>=1.1.1\n",
            "  Downloading frozenlist-1.3.3-cp39-cp39-manylinux_2_5_x86_64.manylinux1_x86_64.manylinux_2_17_x86_64.manylinux2014_x86_64.whl (158 kB)\n",
            "\u001b[2K     \u001b[90m━━━━━━━━━━━━━━━━━━━━━━━━━━━━━━━━━━━━━━\u001b[0m \u001b[32m158.8/158.8 KB\u001b[0m \u001b[31m14.2 MB/s\u001b[0m eta \u001b[36m0:00:00\u001b[0m\n",
            "\u001b[?25hRequirement already satisfied: attrs>=17.3.0 in /usr/local/lib/python3.9/dist-packages (from aiohttp==3.8.4->line-bot-sdk) (22.2.0)\n",
            "Requirement already satisfied: urllib3<1.27,>=1.21.1 in /usr/local/lib/python3.9/dist-packages (from requests==2.28.2->line-bot-sdk) (1.26.15)\n",
            "Requirement already satisfied: certifi>=2017.4.17 in /usr/local/lib/python3.9/dist-packages (from requests==2.28.2->line-bot-sdk) (2022.12.7)\n",
            "Requirement already satisfied: idna<4,>=2.5 in /usr/local/lib/python3.9/dist-packages (from requests==2.28.2->line-bot-sdk) (2.10)\n",
            "Requirement already satisfied: itsdangerous>=2.0 in /usr/local/lib/python3.9/dist-packages (from flask) (2.1.2)\n",
            "Requirement already satisfied: click>=8.0 in /usr/local/lib/python3.9/dist-packages (from flask) (8.1.3)\n",
            "Requirement already satisfied: importlib-metadata>=3.6.0 in /usr/local/lib/python3.9/dist-packages (from flask) (6.0.0)\n",
            "Requirement already satisfied: Werkzeug>=2.2.2 in /usr/local/lib/python3.9/dist-packages (from flask) (2.2.3)\n",
            "Requirement already satisfied: Jinja2>=3.0 in /usr/local/lib/python3.9/dist-packages (from flask) (3.1.2)\n",
            "Requirement already satisfied: zipp>=0.5 in /usr/local/lib/python3.9/dist-packages (from importlib-metadata>=3.6.0->flask) (3.15.0)\n",
            "Requirement already satisfied: MarkupSafe>=2.0 in /usr/local/lib/python3.9/dist-packages (from Jinja2>=3.0->flask) (2.1.2)\n",
            "Installing collected packages: multidict, frozenlist, charset-normalizer, async-timeout, yarl, requests, aiosignal, flask-ngrok, aiohttp, line-bot-sdk\n",
            "  Attempting uninstall: requests\n",
            "    Found existing installation: requests 2.25.1\n",
            "    Uninstalling requests-2.25.1:\n",
            "      Successfully uninstalled requests-2.25.1\n",
            "Successfully installed aiohttp-3.8.4 aiosignal-1.3.1 async-timeout-4.0.2 charset-normalizer-3.1.0 flask-ngrok-0.0.25 frozenlist-1.3.3 line-bot-sdk-2.4.2 multidict-6.0.4 requests-2.28.2 yarl-1.8.2\n"
          ]
        }
      ],
      "source": [
        "'''\n",
        "\n",
        "'''\n",
        "\n",
        "!pip install line-bot-sdk flask flask-ngrok"
      ]
    },
    {
      "cell_type": "code",
      "execution_count": null,
      "metadata": {
        "id": "JS4BNBZQd7HU"
      },
      "outputs": [],
      "source": [
        "'''\n",
        "引用套件\n",
        "'''\n",
        "\n",
        "# 引用Web Server套件\n",
        "from flask import Flask, request, abort, jsonify\n",
        "\n",
        "# 載入json處理套件\n",
        "import json\n",
        "\n",
        "# 外部連結自動生成套件\n",
        "from flask_ngrok import run_with_ngrok\n",
        "\n",
        "# 從linebot 套件包裡引用 LineBotApi 與 WebhookHandler 類別\n",
        "from linebot import (\n",
        "    LineBotApi, WebhookHandler\n",
        ")\n",
        "\n",
        "# 引用無效簽章錯誤\n",
        "from linebot.exceptions import (\n",
        "    InvalidSignatureError\n",
        ")\n"
      ]
    },
    {
      "cell_type": "code",
      "execution_count": null,
      "metadata": {
        "id": "DQjGb3Hjiy5U"
      },
      "outputs": [],
      "source": [
        "# 設定Server啟用細節\n",
        "app = Flask(__name__,static_url_path = \"/素材\" , static_folder = \"./素材/\")\n",
        "run_with_ngrok(app)\n",
        "\n",
        "# 生成實體物件\n",
        "line_bot_api = LineBotApi(\"GmpqbLGfzvDUTNqtMRj4y1+tioloPk3RjM6dTRUuaULhIIkg/UqLr9MSDMQinNO224SMNrW3FtMFTgdIIuYOBWjHNRQoDP9dS/qIuGEW1NzJ2Sp0W5rKLEE+PiUBHO5jzbeYe1PtLNHsk7iauqvMGgdB04t89/1O/w1cDnyilFU=\")\n",
        "handler = WebhookHandler(\"e13938513591986d9f7ee331ea224db5\")"
      ]
    },
    {
      "cell_type": "code",
      "execution_count": null,
      "metadata": {
        "id": "gUuI4lVzi5M7"
      },
      "outputs": [],
      "source": [
        "\n",
        "# 啟動server對外接口，使Line能丟消息進來\n",
        "@app.route(\"/\", methods=['POST'])\n",
        "def callback():\n",
        "    # get X-Line-Signature header value\n",
        "    signature = request.headers['X-Line-Signature']\n",
        "\n",
        "    # get request body as text\n",
        "    body = request.get_data(as_text=True)\n",
        "    app.logger.info(\"Request body: \" + body)\n",
        "\n",
        "    # handle webhook body\n",
        "    try:\n",
        "        handler.handle(body, signature)\n",
        "    except InvalidSignatureError:\n",
        "        abort(400)\n",
        "\n",
        "    return 'OK'"
      ]
    },
    {
      "cell_type": "code",
      "execution_count": null,
      "metadata": {
        "id": "iKUrvJ74jQMz"
      },
      "outputs": [],
      "source": [
        "'''\n",
        "消息判斷器\n",
        "讀取指定的json檔案後，把json解析成不同格式的SendMessage\n",
        "讀取檔案，\n",
        "把內容轉換成json\n",
        "將json轉換成消息\n",
        "放回array中，並把array傳出。\n",
        "'''\n",
        "\n",
        "# 引用會用到的套件\n",
        "from linebot.models import (\n",
        "    ImagemapSendMessage,TextSendMessage,ImageSendMessage,LocationSendMessage,FlexSendMessage,VideoSendMessage\n",
        ")\n",
        "\n",
        "from linebot.models.template import (\n",
        "    ButtonsTemplate,CarouselTemplate,ConfirmTemplate,ImageCarouselTemplate\n",
        "    \n",
        ")\n",
        "\n",
        "from linebot.models.template import *\n",
        "\n",
        "def detect_json_array_to_new_message_array(fileName):\n",
        "    \n",
        "    #開啟檔案，轉成json\n",
        "    with open(fileName,encoding='utf8') as f:\n",
        "        jsonArray = json.load(f)\n",
        "    \n",
        "    # 解析json\n",
        "    returnArray = []\n",
        "    for jsonObject in jsonArray:\n",
        "\n",
        "        # 讀取其用來判斷的元件\n",
        "        message_type = jsonObject.get('type')\n",
        "        \n",
        "        # 轉換\n",
        "        if message_type == 'text':\n",
        "            returnArray.append(TextSendMessage.new_from_json_dict(jsonObject))\n",
        "        elif message_type == 'imagemap':\n",
        "            returnArray.append(ImagemapSendMessage.new_from_json_dict(jsonObject))\n",
        "        elif message_type == 'template':\n",
        "            returnArray.append(TemplateSendMessage.new_from_json_dict(jsonObject))\n",
        "        elif message_type == 'image':\n",
        "            returnArray.append(ImageSendMessage.new_from_json_dict(jsonObject))\n",
        "        elif message_type == 'sticker':\n",
        "            returnArray.append(StickerSendMessage.new_from_json_dict(jsonObject))  \n",
        "        elif message_type == 'audio':\n",
        "            returnArray.append(AudioSendMessage.new_from_json_dict(jsonObject))  \n",
        "        elif message_type == 'location':\n",
        "            returnArray.append(LocationSendMessage.new_from_json_dict(jsonObject))\n",
        "        elif message_type == 'flex':\n",
        "            returnArray.append(FlexSendMessage.new_from_json_dict(jsonObject))  \n",
        "        elif message_type == 'video':\n",
        "            returnArray.append(VideoSendMessage.new_from_json_dict(jsonObject))    \n",
        "\n",
        "\n",
        "    # 回傳\n",
        "    return returnArray\n"
      ]
    },
    {
      "cell_type": "code",
      "execution_count": null,
      "metadata": {
        "id": "zWhCWzrfjge5"
      },
      "outputs": [],
      "source": [
        "\n",
        "# 引用套件\n",
        "from linebot.models import (\n",
        "    MessageEvent, TextMessage\n",
        ")\n",
        "\n",
        "\n",
        "# 文字消息處理\n",
        "@handler.add(MessageEvent,message=TextMessage)\n",
        "def process_text_message(event):\n",
        "\n",
        "    # 讀取本地檔案，並轉譯成消息\n",
        "    result_message_array =[]\n",
        "    replyJsonPath = event.message.text+\".json\"\n",
        "    result_message_array = detect_json_array_to_new_message_array(replyJsonPath)\n",
        "\n",
        "    # 發送\n",
        "    line_bot_api.reply_message(\n",
        "        event.reply_token,\n",
        "        result_message_array\n",
        "    )"
      ]
    },
    {
      "cell_type": "code",
      "execution_count": 10,
      "metadata": {
        "id": "fFwaojqca8F6",
        "colab": {
          "base_uri": "https://localhost:8080/"
        },
        "outputId": "778b5e3d-0d52-4597-c8bc-325d99310991"
      },
      "outputs": [
        {
          "output_type": "stream",
          "name": "stdout",
          "text": [
            " * Serving Flask app '__main__'\n",
            " * Debug mode: off\n"
          ]
        },
        {
          "output_type": "stream",
          "name": "stderr",
          "text": [
            "INFO:werkzeug:\u001b[31m\u001b[1mWARNING: This is a development server. Do not use it in a production deployment. Use a production WSGI server instead.\u001b[0m\n",
            " * Running on http://127.0.0.1:5000\n",
            "INFO:werkzeug:\u001b[33mPress CTRL+C to quit\u001b[0m\n"
          ]
        },
        {
          "output_type": "stream",
          "name": "stdout",
          "text": [
            " * Running on http://f731-35-237-208-23.ngrok.io\n",
            " * Traffic stats available on http://127.0.0.1:4040\n"
          ]
        },
        {
          "output_type": "stream",
          "name": "stderr",
          "text": [
            "ERROR:__main__:Exception on / [POST]\n",
            "Traceback (most recent call last):\n",
            "  File \"/usr/local/lib/python3.9/dist-packages/flask/app.py\", line 2528, in wsgi_app\n",
            "    response = self.full_dispatch_request()\n",
            "  File \"/usr/local/lib/python3.9/dist-packages/flask/app.py\", line 1825, in full_dispatch_request\n",
            "    rv = self.handle_user_exception(e)\n",
            "  File \"/usr/local/lib/python3.9/dist-packages/flask/app.py\", line 1823, in full_dispatch_request\n",
            "    rv = self.dispatch_request()\n",
            "  File \"/usr/local/lib/python3.9/dist-packages/flask/app.py\", line 1799, in dispatch_request\n",
            "    return self.ensure_sync(self.view_functions[rule.endpoint])(**view_args)\n",
            "  File \"<ipython-input-5-4651184fc34d>\", line 13, in callback\n",
            "    handler.handle(body, signature)\n",
            "  File \"/usr/local/lib/python3.9/dist-packages/linebot/webhook.py\", line 263, in handle\n",
            "    self.__invoke_func(func, event, payload)\n",
            "  File \"/usr/local/lib/python3.9/dist-packages/linebot/webhook.py\", line 275, in __invoke_func\n",
            "    func(event)\n",
            "  File \"<ipython-input-7-8a98abcaa3d2>\", line 14, in process_text_message\n",
            "    result_message_array = detect_json_array_to_new_message_array(replyJsonPath)\n",
            "  File \"<ipython-input-6-1babb8283e85>\", line 33, in detect_json_array_to_new_message_array\n",
            "    message_type = jsonObject.get('type')\n",
            "AttributeError: 'str' object has no attribute 'get'\n",
            "INFO:werkzeug:127.0.0.1 - - [16/Mar/2023 08:10:07] \"\u001b[35m\u001b[1mPOST / HTTP/1.1\u001b[0m\" 500 -\n",
            "INFO:werkzeug:127.0.0.1 - - [16/Mar/2023 08:11:51] \"POST / HTTP/1.1\" 200 -\n"
          ]
        }
      ],
      "source": [
        "# 主程序運行\n",
        "app.run()"
      ]
    }
  ],
  "metadata": {
    "colab": {
      "provenance": [],
      "toc_visible": true,
      "include_colab_link": true
    },
    "kernelspec": {
      "display_name": "Python 3",
      "language": "python",
      "name": "python3"
    },
    "language_info": {
      "codemirror_mode": {
        "name": "ipython",
        "version": 3
      },
      "file_extension": ".py",
      "mimetype": "text/x-python",
      "name": "python",
      "nbconvert_exporter": "python",
      "pygments_lexer": "ipython3",
      "version": "3.8.6"
    }
  },
  "nbformat": 4,
  "nbformat_minor": 0
}