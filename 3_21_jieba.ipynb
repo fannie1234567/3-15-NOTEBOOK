{
  "nbformat": 4,
  "nbformat_minor": 0,
  "metadata": {
    "colab": {
      "provenance": [],
      "authorship_tag": "ABX9TyNjaQsVhFh9vLeZUQYZTm9y",
      "include_colab_link": true
    },
    "kernelspec": {
      "name": "python3",
      "display_name": "Python 3"
    },
    "language_info": {
      "name": "python"
    }
  },
  "cells": [
    {
      "cell_type": "markdown",
      "metadata": {
        "id": "view-in-github",
        "colab_type": "text"
      },
      "source": [
        "<a href=\"https://colab.research.google.com/github/fannie1234567/3-15-NOTEBOOK/blob/main/3_21_jieba.ipynb\" target=\"_parent\"><img src=\"https://colab.research.google.com/assets/colab-badge.svg\" alt=\"Open In Colab\"/></a>"
      ]
    },
    {
      "cell_type": "code",
      "execution_count": null,
      "metadata": {
        "colab": {
          "base_uri": "https://localhost:8080/"
        },
        "id": "4e8ikpDRftRi",
        "outputId": "25e95def-b645-4b9a-d5de-a519b380852c"
      },
      "outputs": [
        {
          "output_type": "stream",
          "name": "stdout",
          "text": [
            "Looking in indexes: https://pypi.org/simple, https://us-python.pkg.dev/colab-wheels/public/simple/\n",
            "Collecting opencc-python-reimplemented\n",
            "  Downloading opencc_python_reimplemented-0.1.7-py2.py3-none-any.whl (481 kB)\n",
            "\u001b[2K     \u001b[90m━━━━━━━━━━━━━━━━━━━━━━━━━━━━━━━━━━━━━━━\u001b[0m \u001b[32m481.8/481.8 KB\u001b[0m \u001b[31m5.2 MB/s\u001b[0m eta \u001b[36m0:00:00\u001b[0m\n",
            "\u001b[?25hInstalling collected packages: opencc-python-reimplemented\n",
            "Successfully installed opencc-python-reimplemented-0.1.7\n"
          ]
        }
      ],
      "source": [
        "!pip install opencc-python-reimplemented\n",
        "#簡體轉換繁體中文"
      ]
    },
    {
      "cell_type": "code",
      "source": [
        "to_convert=\"\"\"此时已莺飞草长\n",
        "爱的人正在路上\n",
        "我知他风雨兼程\n",
        "途经日暮不赏\n",
        "穿越人海只为与你相拥\n",
        "此刻已皓月当空\n",
        "爱的人手捧星光\n",
        "我知他乘风破浪\n",
        "去了黑暗一趟\n",
        "\"\"\""
      ],
      "metadata": {
        "id": "9BsAgb9aLpEe"
      },
      "execution_count": null,
      "outputs": []
    },
    {
      "cell_type": "code",
      "source": [
        "from opencc import OpenCC\n",
        "\n",
        "cc = OpenCC(\"s2twp\")\n",
        "converted = cc.convert(to_convert)\n",
        "print(converted)"
      ],
      "metadata": {
        "colab": {
          "base_uri": "https://localhost:8080/"
        },
        "id": "GQhQLlCLLXTo",
        "outputId": "5f52f5b6-4465-4cc3-ad01-a29d34c53414"
      },
      "execution_count": null,
      "outputs": [
        {
          "output_type": "stream",
          "name": "stdout",
          "text": [
            "此時已鶯飛草長\n",
            "愛的人正在路上\n",
            "我知他風雨兼程\n",
            "途經日暮不賞\n",
            "穿越人海只為與你相擁\n",
            "此刻已皓月當空\n",
            "愛的人手捧星光\n",
            "我知他乘風破浪\n",
            "去了黑暗一趟\n",
            "\n"
          ]
        }
      ]
    },
    {
      "cell_type": "code",
      "source": [
        "import jieba\n",
        "from urllib.request import urlretrieve\n",
        "url = \"https://github.com/fxsjy/jieba/raw/master/extra_dict/dict.txt.big\"\n",
        "urlretrieve(url, \"dict.txt.big\")\n",
        "# 1. 載入大辭典\n",
        "jieba.set_dictionary(\"dict.txt.big\")\n",
        "# # 2. 載入自訂義詞典\n",
        "jieba.load_userdict(\"mydict.txt\")\n",
        "\n",
        "with open(\"test.txt\", \"r\", encoding=\"utf-8\") as f:\n",
        "    content = f.read()\n",
        "\n",
        "# # 全行空白替換成半行空白\n",
        "content = content.replace(\"\\ufeff\", \" \")\n",
        "# 3. 分完詞把它搞得跟英文一樣(詞與詞中間有空白)\n",
        "\" \".join(jieba.cut(content))\n"
      ],
      "metadata": {
        "colab": {
          "base_uri": "https://localhost:8080/",
          "height": 298
        },
        "id": "0lavg7ZBM1jO",
        "outputId": "d847923f-d015-4e23-cc73-d698fec08111"
      },
      "execution_count": null,
      "outputs": [
        {
          "output_type": "stream",
          "name": "stderr",
          "text": [
            "Building prefix dict from /content/dict.txt.big ...\n",
            "DEBUG:jieba:Building prefix dict from /content/dict.txt.big ...\n",
            "Dumping model to file cache /tmp/jieba.u501edca284da514cb68b53a20324f4e3.cache\n",
            "DEBUG:jieba:Dumping model to file cache /tmp/jieba.u501edca284da514cb68b53a20324f4e3.cache\n",
            "Loading model cost 1.545 seconds.\n",
            "DEBUG:jieba:Loading model cost 1.545 seconds.\n",
            "Prefix dict has been built successfully.\n",
            "DEBUG:jieba:Prefix dict has been built successfully.\n"
          ]
        },
        {
          "output_type": "execute_result",
          "data": {
            "text/plain": [
              "'  一 、 計畫法源 ： 為 鼓勵 團體 至 本市 各大 景點 觀光旅遊 ， 提升 本市 國民 旅遊 人潮 ， 高雄市 政府 觀光局 ( 以下 簡稱 本局 ) 依據 「 高雄市 觀光 行銷 推廣 補助 辦法 」 辦理 本計畫 。 \\n \\n \\n 二 、 補助 對象 ： 本國 合法 設立 之旅 行業 。 \\n \\n \\n 三 、 補助 方式 ： 採 事後 核銷 （ 免 事先 申請 ） 。 \\n   ( 一 ) 出團 時間 ： 自 111 年 9 月 1 日起 至 112 年 4 月 30 日止 。 \\n   ( 二 ) 受理 時間 ： 自 111 年 9 月 1 日起 至 112 年 6 月 30 日止 ( 或 預算 用罄 ) 。 \\n   ( 三 ) 核銷時間 ： 出團 結束 之 次日 起 ， 具函 檢附 所 需 文件 辦理 核銷 作業 ( 順序 以 機關 收件 編號 為準 ) 。'"
            ],
            "application/vnd.google.colaboratory.intrinsic+json": {
              "type": "string"
            }
          },
          "metadata": {},
          "execution_count": 10
        }
      ]
    }
  ]
}