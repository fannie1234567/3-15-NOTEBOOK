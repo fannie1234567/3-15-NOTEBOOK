{
  "nbformat": 4,
  "nbformat_minor": 0,
  "metadata": {
    "colab": {
      "provenance": [],
      "authorship_tag": "ABX9TyPkDpeGZLmlfRD3jBa0Z1yE",
      "include_colab_link": true
    },
    "kernelspec": {
      "name": "python3",
      "display_name": "Python 3"
    },
    "language_info": {
      "name": "python"
    }
  },
  "cells": [
    {
      "cell_type": "markdown",
      "metadata": {
        "id": "view-in-github",
        "colab_type": "text"
      },
      "source": [
        "<a href=\"https://colab.research.google.com/github/fannie1234567/3-15-NOTEBOOK/blob/main/Untitled12.ipynb\" target=\"_parent\"><img src=\"https://colab.research.google.com/assets/colab-badge.svg\" alt=\"Open In Colab\"/></a>"
      ]
    },
    {
      "cell_type": "code",
      "source": [],
      "metadata": {
        "id": "UnHvqcxCJRHX"
      },
      "execution_count": null,
      "outputs": []
    },
    {
      "cell_type": "markdown",
      "source": [],
      "metadata": {
        "id": "sDTY2Q3DJUFM"
      }
    },
    {
      "cell_type": "code",
      "source": [],
      "metadata": {
        "id": "qYIc7x88JVMg"
      },
      "execution_count": null,
      "outputs": []
    },
    {
      "cell_type": "markdown",
      "source": [
        "$ Area=\\frac{1}{+X} $"
      ],
      "metadata": {
        "id": "83qeaSx_JhW2"
      }
    },
    {
      "cell_type": "markdown",
      "source": [
        "$Area=\\frac {1}{2+x}\\pi {R^2}$\n"
      ],
      "metadata": {
        "id": "1_8SUM0AJRWr"
      }
    }
  ]
}