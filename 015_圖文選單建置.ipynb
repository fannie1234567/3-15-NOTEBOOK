{
  "cells": [
    {
      "cell_type": "code",
      "execution_count": null,
      "metadata": {
        "id": "VWonLlhQPLUb"
      },
      "outputs": [],
      "source": [
        "'''\n",
        "\n",
        "用戶菜單功能介紹\n",
        "\n",
        "    用戶能透過點擊菜單，進行我方希冀之業務功能。\n",
        "    \n",
        "流程\n",
        "    準備菜單的圖面設定檔\n",
        "    讀取安全設定檔上的參數\n",
        "    將菜單設定檔傳給Line\n",
        "    對Line上傳菜單照片\n",
        "    檢視現有的菜單\n",
        "    將菜單與用戶做綁定\n",
        "    將菜單與用戶解除綁定\n",
        "    刪除菜單\n",
        "\n",
        "'''"
      ]
    },
    {
      "cell_type": "code",
      "execution_count": 9,
      "metadata": {
        "id": "-6gmykHtPLUe"
      },
      "outputs": [],
      "source": [
        "'''\n",
        "菜單設定檔\n",
        "\n",
        "    設定圖面大小、按鍵名與功能\n",
        "    \n",
        "'''\n",
        "\n",
        "menuRawData=\"\"\"\n",
        "{\n",
        "  \"size\": {\n",
        "    \"width\": 2500,\n",
        "    \"height\": 1686\n",
        "  },\n",
        "  \"selected\": true,\n",
        "  \"name\": \"區塊鏈自定義菜單\",\n",
        "  \"chatBarText\": \"查看更多資訊\",\n",
        "  \"areas\": [\n",
        "    {\n",
        "      \"bounds\": {\n",
        "        \"x\": 5,\n",
        "        \"y\": 0,\n",
        "        \"width\": 824,\n",
        "        \"height\": 850\n",
        "      },\n",
        "      \"action\": {\n",
        "        \"type\": \"message\",\n",
        "        \"text\": \"[::text:]傳統交易\"\n",
        "      }\n",
        "    },\n",
        "    {\n",
        "      \"bounds\": {\n",
        "        \"x\": 0,\n",
        "        \"y\": 850,\n",
        "        \"width\": 825,\n",
        "        \"height\": 818\n",
        "      },\n",
        "      \"action\": {\n",
        "        \"type\": \"message\",\n",
        "        \"text\": \"[::text:]第三方公證人\"\n",
        "      }\n",
        "    },\n",
        "    {\n",
        "      \"bounds\": {\n",
        "        \"x\": 829,\n",
        "        \"y\": 5,\n",
        "        \"width\": 871,\n",
        "        \"height\": 849\n",
        "      },\n",
        "      \"action\": {\n",
        "        \"type\": \"message\",\n",
        "        \"text\": \"[::text:]多位公證人\"\n",
        "      }\n",
        "    },\n",
        "    {\n",
        "      \"bounds\": {\n",
        "        \"x\": 825,\n",
        "        \"y\": 854,\n",
        "        \"width\": 875,\n",
        "        \"height\": 814\n",
        "      },\n",
        "      \"action\": {\n",
        "        \"type\": \"message\",\n",
        "        \"text\": \"[::text:]多組織多位公證人\"\n",
        "      }\n",
        "    },\n",
        "    {\n",
        "      \"bounds\": {\n",
        "        \"x\": 1700,\n",
        "        \"y\": 0,\n",
        "        \"width\": 800,\n",
        "        \"height\": 858\n",
        "      },\n",
        "      \"action\": {\n",
        "        \"type\": \"message\",\n",
        "        \"text\": \"[::text:]教學訊息\"\n",
        "      }\n",
        "    },\n",
        "    {\n",
        "      \"bounds\": {\n",
        "        \"x\": 1700,\n",
        "        \"y\": 858,\n",
        "        \"width\": 800,\n",
        "        \"height\": 810\n",
        "      },\n",
        "      \"action\": {\n",
        "        \"type\": \"message\",\n",
        "        \"text\": \"[::text:]more\"\n",
        "      }\n",
        "    }\n",
        "  ]\n",
        "}\n",
        "\"\"\""
      ]
    },
    {
      "cell_type": "code",
      "source": [
        "!pip install line-bot sdk"
      ],
      "metadata": {
        "id": "6cLlXFCAQAKl",
        "outputId": "65274eb5-ef69-491f-9dcd-2945591f8261",
        "colab": {
          "base_uri": "https://localhost:8080/"
        }
      },
      "execution_count": 10,
      "outputs": [
        {
          "output_type": "stream",
          "name": "stdout",
          "text": [
            "Looking in indexes: https://pypi.org/simple, https://us-python.pkg.dev/colab-wheels/public/simple/\n",
            "\u001b[31mERROR: Could not find a version that satisfies the requirement line-bot (from versions: none)\u001b[0m\u001b[31m\n",
            "\u001b[0m\u001b[31mERROR: No matching distribution found for line-bot\u001b[0m\u001b[31m\n",
            "\u001b[0m"
          ]
        }
      ]
    },
    {
      "cell_type": "code",
      "execution_count": 14,
      "metadata": {
        "id": "lKgV6iIoPLUf",
        "outputId": "ddb0343c-a4cf-4d55-a633-6c34f48e3f22",
        "colab": {
          "base_uri": "https://localhost:8080/",
          "height": 36
        }
      },
      "outputs": [
        {
          "output_type": "execute_result",
          "data": {
            "text/plain": [
              "'\\n建置圖文選單\\n  JSON\\n  圖片\\n  圖文選單ID正常運作\\n把用戶跟圖文綁在一起\\n解除綁定\\n瀏覽目前有多少張圖文選單\\n'"
            ],
            "application/vnd.google.colaboratory.intrinsic+json": {
              "type": "string"
            }
          },
          "metadata": {},
          "execution_count": 14
        }
      ],
      "source": [
        "\n",
        "'''\n",
        "\n",
        "用channel_access_token創建line_bot_api，預備用來跟Line進行溝通\n",
        "\n",
        "'''\n",
        "\n",
        "from linebot import (\n",
        "    LineBotApi, WebhookHandler\n",
        ")\n",
        "\n",
        "line_bot_api = LineBotApi(\"GmpqbLGfzvDUTNqtMRj4y1+tioloPk3RjM6dTRUuaULhIIkg/UqLr9MSDMQinNO224SMNrW3FtMFTgdIIuYOBWjHNRQoDP9dS/qIuGEW1NzJ2Sp0W5rKLEE+PiUBHO5jzbeYe1PtLNHsk7iauqvMGgdB04t89/1O/w1cDnyilFU=\")\n",
        "\n",
        "'''\n",
        "建置圖文選單\n",
        "  JSON\n",
        "  圖片\n",
        "  圖文選單ID正常運作\n",
        "把用戶跟圖文綁在一起\n",
        "解除綁定\n",
        "瀏覽目前有多少張圖文選單\n",
        "'''"
      ]
    },
    {
      "cell_type": "code",
      "execution_count": 15,
      "metadata": {
        "id": "R3_VKLdiPLUf",
        "outputId": "f134f39e-eada-4495-b64b-7af58bf5550d",
        "colab": {
          "base_uri": "https://localhost:8080/"
        }
      },
      "outputs": [
        {
          "output_type": "stream",
          "name": "stdout",
          "text": [
            "richmenu-bc9f6dff5dd46f091189009a2f8a2d9e\n"
          ]
        }
      ],
      "source": [
        "'''\n",
        "\n",
        "載入前面的圖文選單設定，\n",
        "\n",
        "並要求line_bot_api將圖文選單上傳至Line\n",
        "    \n",
        "\n",
        "'''\n",
        "import json\n",
        "#讀取圖文選單設定檔\n",
        "from linebot.models import RichMenu\n",
        "import requests\n",
        "\n",
        "menuJson=json.loads(menuRawData)\n",
        "#用line_bot_api 的create_rich _menu方法創造圖文選單id\n",
        "\n",
        "#圖文選單id要好好保存，通常存到資料庫\n",
        "#richmenu-bc9f6dff5dd46f091189009a2f8a2d9e\n",
        "lineRichMenuId = line_bot_api.create_rich_menu(rich_menu=RichMenu.new_from_json_dict(menuJson))\n",
        "print(lineRichMenuId)"
      ]
    },
    {
      "cell_type": "code",
      "execution_count": 16,
      "metadata": {
        "id": "dHdsas-tPLUg",
        "outputId": "bf049fce-a01f-4552-cdc8-033318e7e960",
        "colab": {
          "base_uri": "https://localhost:8080/"
        }
      },
      "outputs": [
        {
          "output_type": "stream",
          "name": "stdout",
          "text": [
            "None\n"
          ]
        }
      ],
      "source": [
        "'''\n",
        "\n",
        "將先前準備的菜單照片，以Post消息寄發給Line\n",
        "\n",
        "    載入照片\n",
        "    要求line_bot_api，將圖片傳到先前的圖文選單id\n",
        "\n",
        "\n",
        "'''\n",
        "\n",
        "#開啟圖檔\n",
        "uploadImageFile=open(\"blockchain_demo.jpg\",'rb')\n",
        "#讓line_bot_api上傳照片，並把那個生成id跟圖文選單綁一起\n",
        "setImageResponse = line_bot_api.set_rich_menu_image(lineRichMenuId,'image/jpeg',uploadImageFile)\n",
        "\n",
        "print(setImageResponse)"
      ]
    },
    {
      "cell_type": "code",
      "execution_count": 22,
      "metadata": {
        "id": "1VbJkxuYPLUg",
        "outputId": "1dcb69ac-d774-400e-ae46-b6f44bbf35af",
        "colab": {
          "base_uri": "https://localhost:8080/"
        }
      },
      "outputs": [
        {
          "output_type": "stream",
          "name": "stdout",
          "text": [
            "None\n"
          ]
        }
      ],
      "source": [
        "'''\n",
        "\n",
        "將選單綁定到特定用戶身上\n",
        "    取出上面得到的菜單Id及用戶id\n",
        "    要求line_bot_api告知Line，將用戶與圖文選單做綁定\n",
        "\n",
        "'''\n",
        "\n",
        "# https://api.line.me/v2/bot/user/{userId}/richmenu/{richMenuId}\n",
        "\n",
        "\n",
        "linkResult=line_bot_api.link_rich_menu_to_user(\"U0176d805450c918d3b6dba74c538e714\", lineRichMenuId)\n",
        "\n",
        "print(linkResult)"
      ]
    },
    {
      "cell_type": "code",
      "execution_count": 19,
      "metadata": {
        "id": "zODHO1UgPLUg",
        "outputId": "ce4c48e0-0f43-46ce-b540-ecb0db0f33d3",
        "colab": {
          "base_uri": "https://localhost:8080/"
        }
      },
      "outputs": [
        {
          "output_type": "stream",
          "name": "stdout",
          "text": [
            "richmenu-bc9f6dff5dd46f091189009a2f8a2d9e\n"
          ]
        }
      ],
      "source": [
        "'''\n",
        "\n",
        "檢視用戶目前所綁定的菜單\n",
        "    取出用戶id，並告知line_bot_api，\n",
        "    line_bot_api傳回用戶所綁定的菜單\n",
        "    印出\n",
        "\n",
        "'''\n",
        "\n",
        "#  https://api.line.me/v2/bot/user/{userId}/richmenu\n",
        "\n",
        "#查詢特定用戶，所使用的圖文選單\n",
        "rich_menu_id = line_bot_api.get_rich_menu_id_of_user(\"U0176d805450c918d3b6dba74c538e714\")\n",
        "print(rich_menu_id)"
      ]
    },
    {
      "cell_type": "code",
      "execution_count": 20,
      "metadata": {
        "id": "HcsC6b48PLUh",
        "outputId": "cf3dab64-9442-4470-a954-d526ac42077e",
        "colab": {
          "base_uri": "https://localhost:8080/"
        }
      },
      "outputs": [
        {
          "output_type": "stream",
          "name": "stdout",
          "text": [
            "None\n"
          ]
        }
      ],
      "source": [
        "'''\n",
        "\n",
        "解除選單與特定用戶的綁定\n",
        "    取出用戶id，並告知line_bot_api，\n",
        "    line_bot_api解除用戶所綁定的菜單\n",
        "'''\n",
        "#解除用戶圖文選單綁定\n",
        "#參數:填寫要解除的用戶id\n",
        "lineUnregisterUserMenuResponse=line_bot_api.unlink_rich_menu_from_user(\"U0176d805450c918d3b6dba74c538e714\")\n",
        "print(lineUnregisterUserMenuResponse)"
      ]
    },
    {
      "cell_type": "code",
      "execution_count": 21,
      "metadata": {
        "id": "4d3Eg2zaPLUh",
        "outputId": "258329ae-893a-448d-8f44-c2f863cab8c7",
        "colab": {
          "base_uri": "https://localhost:8080/"
        }
      },
      "outputs": [
        {
          "output_type": "stream",
          "name": "stdout",
          "text": [
            "richmenu-66d1f02b0521f95616cde67fcfe0f6dd\n",
            "richmenu-bc9f6dff5dd46f091189009a2f8a2d9e\n"
          ]
        }
      ],
      "source": [
        "'''\n",
        "\n",
        "檢視帳號內，有哪些選單\n",
        "    要求line_bot_api，向line查詢我方的圖文選單列表\n",
        "    打印\n",
        "\n",
        "'''\n",
        "#查詢現有的圖文選單\n",
        "rich_menu_list = line_bot_api.get_rich_menu_list()\n",
        "for rich_menu in rich_menu_list:\n",
        "    print(rich_menu.rich_menu_id)"
      ]
    }
  ],
  "metadata": {
    "kernelspec": {
      "display_name": "Python 3",
      "language": "python",
      "name": "python3"
    },
    "language_info": {
      "codemirror_mode": {
        "name": "ipython",
        "version": 3
      },
      "file_extension": ".py",
      "mimetype": "text/x-python",
      "name": "python",
      "nbconvert_exporter": "python",
      "pygments_lexer": "ipython3",
      "version": "3.8.6"
    },
    "colab": {
      "provenance": []
    }
  },
  "nbformat": 4,
  "nbformat_minor": 0
}